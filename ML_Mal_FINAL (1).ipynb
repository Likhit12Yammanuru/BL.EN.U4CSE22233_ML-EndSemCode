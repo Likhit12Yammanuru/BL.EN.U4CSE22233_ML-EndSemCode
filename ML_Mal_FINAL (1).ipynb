{
  "nbformat": 4,
  "nbformat_minor": 0,
  "metadata": {
    "colab": {
      "provenance": []
    },
    "kernelspec": {
      "name": "python3",
      "display_name": "Python 3"
    },
    "language_info": {
      "name": "python"
    }
  },
  "cells": [
    {
      "cell_type": "code",
      "source": [
        "pip install pandas scikit-learn numpy\n"
      ],
      "metadata": {
        "colab": {
          "base_uri": "https://localhost:8080/"
        },
        "id": "0cceQq7F9FDG",
        "outputId": "1cbb7257-78b1-422e-faef-8a6328d7251d"
      },
      "execution_count": null,
      "outputs": [
        {
          "output_type": "stream",
          "name": "stdout",
          "text": [
            "Requirement already satisfied: pandas in /usr/local/lib/python3.10/dist-packages (2.2.2)\n",
            "Requirement already satisfied: scikit-learn in /usr/local/lib/python3.10/dist-packages (1.5.2)\n",
            "Requirement already satisfied: numpy in /usr/local/lib/python3.10/dist-packages (1.26.4)\n",
            "Requirement already satisfied: python-dateutil>=2.8.2 in /usr/local/lib/python3.10/dist-packages (from pandas) (2.8.2)\n",
            "Requirement already satisfied: pytz>=2020.1 in /usr/local/lib/python3.10/dist-packages (from pandas) (2024.2)\n",
            "Requirement already satisfied: tzdata>=2022.7 in /usr/local/lib/python3.10/dist-packages (from pandas) (2024.2)\n",
            "Requirement already satisfied: scipy>=1.6.0 in /usr/local/lib/python3.10/dist-packages (from scikit-learn) (1.13.1)\n",
            "Requirement already satisfied: joblib>=1.2.0 in /usr/local/lib/python3.10/dist-packages (from scikit-learn) (1.4.2)\n",
            "Requirement already satisfied: threadpoolctl>=3.1.0 in /usr/local/lib/python3.10/dist-packages (from scikit-learn) (3.5.0)\n",
            "Requirement already satisfied: six>=1.5 in /usr/local/lib/python3.10/dist-packages (from python-dateutil>=2.8.2->pandas) (1.16.0)\n"
          ]
        }
      ]
    },
    {
      "cell_type": "code",
      "source": [
        "import pandas as pd\n",
        "import numpy as np\n",
        "from sklearn.ensemble import RandomForestClassifier\n",
        "from sklearn.model_selection import train_test_split\n",
        "from sklearn.metrics import accuracy_score\n",
        "\n",
        "# Load the data from the CSV file\n",
        "\n",
        "def load_data():\n",
        "    file_path = \"//content/Gabor_with_labels_andinfo (1).csv\"  # Specify the file path directly in the function\n",
        "    return pd.read_csv(file_path)\n",
        "\n",
        "# Function to apply a sliding window over the features\n",
        "def sliding_window_feature_selection(data, target_column, window_size=3):\n",
        "    # Separate the features and target\n",
        "    X = data.drop(columns=[target_column, 'ImageName'])  # Drop 'ImageName' as it's not a feature\n",
        "    y = data[target_column]\n",
        "\n",
        "    # Initialize variables to track best features and best accuracy\n",
        "    best_accuracy = 0\n",
        "    best_features = None\n",
        "\n",
        "    # Perform sliding window over the features\n",
        "    for start in range(0, X.shape[1] - window_size + 1):\n",
        "        # Select window of features\n",
        "        selected_features = X.iloc[:, start:start + window_size]\n",
        "\n",
        "        # Split into train and test sets\n",
        "        X_train, X_test, y_train, y_test = train_test_split(selected_features, y, test_size=0.3, random_state=42)\n",
        "\n",
        "        # Train a classifier (Random Forest in this case)\n",
        "        clf = RandomForestClassifier(random_state=42)\n",
        "        clf.fit(X_train, y_train)\n",
        "\n",
        "        # Predict and calculate accuracy\n",
        "        y_pred = clf.predict(X_test)\n",
        "        accuracy = accuracy_score(y_test, y_pred)\n",
        "\n",
        "        # Update best features if current window improves accuracy\n",
        "        if accuracy > best_accuracy:\n",
        "            best_accuracy = accuracy\n",
        "            best_features = selected_features.columns\n",
        "\n",
        "    print(f\"Best accuracy: {best_accuracy}\")\n",
        "    print(f\"Selected features: {best_features}\")\n",
        "    return best_features\n",
        "\n",
        "# Example usage\n",
        "csv_file = '/content/Gabor_with_labels_andinfo (1).csv'  # Path to your CSV file\n",
        "target_column = \"Label\"  # 'Label' is the target column for classification\n",
        "\n",
        "# Load data\n",
        "data = load_data()\n",
        "\n",
        "# Apply sliding window feature selection\n",
        "best_features = sliding_window_feature_selection(data, target_column, window_size=3)\n",
        "\n"
      ],
      "metadata": {
        "colab": {
          "base_uri": "https://localhost:8080/"
        },
        "id": "2vz_TUxd9x7v",
        "outputId": "9f5911ba-93b9-4c77-aad1-a39a2e615ecc"
      },
      "execution_count": 1,
      "outputs": [
        {
          "output_type": "stream",
          "name": "stdout",
          "text": [
            "Best accuracy: 1.0\n",
            "Selected features: Index(['GaborEnergy_1_1_Window1', 'GaborEnergy_1_1_Window2',\n",
            "       'GaborEnergy_1_1_Window3'],\n",
            "      dtype='object')\n"
          ]
        }
      ]
    },
    {
      "cell_type": "code",
      "source": [
        "pip install hmmlearn\n"
      ],
      "metadata": {
        "colab": {
          "base_uri": "https://localhost:8080/"
        },
        "id": "_pcI66E2-5rG",
        "outputId": "65b95636-7868-4eda-fac1-8f1b30bde26f"
      },
      "execution_count": 2,
      "outputs": [
        {
          "output_type": "stream",
          "name": "stdout",
          "text": [
            "Collecting hmmlearn\n",
            "  Downloading hmmlearn-0.3.2-cp310-cp310-manylinux_2_17_x86_64.manylinux2014_x86_64.whl.metadata (2.9 kB)\n",
            "Requirement already satisfied: numpy>=1.10 in /usr/local/lib/python3.10/dist-packages (from hmmlearn) (1.26.4)\n",
            "Requirement already satisfied: scikit-learn!=0.22.0,>=0.16 in /usr/local/lib/python3.10/dist-packages (from hmmlearn) (1.5.2)\n",
            "Requirement already satisfied: scipy>=0.19 in /usr/local/lib/python3.10/dist-packages (from hmmlearn) (1.13.1)\n",
            "Requirement already satisfied: joblib>=1.2.0 in /usr/local/lib/python3.10/dist-packages (from scikit-learn!=0.22.0,>=0.16->hmmlearn) (1.4.2)\n",
            "Requirement already satisfied: threadpoolctl>=3.1.0 in /usr/local/lib/python3.10/dist-packages (from scikit-learn!=0.22.0,>=0.16->hmmlearn) (3.5.0)\n",
            "Downloading hmmlearn-0.3.2-cp310-cp310-manylinux_2_17_x86_64.manylinux2014_x86_64.whl (161 kB)\n",
            "\u001b[?25l   \u001b[90m━━━━━━━━━━━━━━━━━━━━━━━━━━━━━━━━━━━━━━━━\u001b[0m \u001b[32m0.0/161.1 kB\u001b[0m \u001b[31m?\u001b[0m eta \u001b[36m-:--:--\u001b[0m\r\u001b[2K   \u001b[91m━━━━━━━━━━━━━━━━━━━━━━━━━━━━━━━━━━━━━━\u001b[0m\u001b[90m╺\u001b[0m\u001b[90m━\u001b[0m \u001b[32m153.6/161.1 kB\u001b[0m \u001b[31m4.4 MB/s\u001b[0m eta \u001b[36m0:00:01\u001b[0m\r\u001b[2K   \u001b[90m━━━━━━━━━━━━━━━━━━━━━━━━━━━━━━━━━━━━━━━━\u001b[0m \u001b[32m161.1/161.1 kB\u001b[0m \u001b[31m3.5 MB/s\u001b[0m eta \u001b[36m0:00:00\u001b[0m\n",
            "\u001b[?25hInstalling collected packages: hmmlearn\n",
            "Successfully installed hmmlearn-0.3.2\n"
          ]
        }
      ]
    },
    {
      "cell_type": "code",
      "source": [
        "import pandas as pd\n",
        "\n",
        "# Load the CSV file (replace with your correct file path)\n",
        "file_path = '/content/Gabor_with_labels_andinfo (1).csv'  # Adjust the file path accordingly\n",
        "data = pd.read_csv(file_path)\n",
        "\n",
        "# Inspect the first few rows of the data\n",
        "print(data.head())\n",
        "\n",
        "# List all columns to identify which columns are features and which column is the label\n",
        "print(data.columns)\n"
      ],
      "metadata": {
        "colab": {
          "base_uri": "https://localhost:8080/"
        },
        "collapsed": true,
        "id": "8AJ16LccDWJb",
        "outputId": "b500053c-fd59-4437-ef09-5b76d03d4aaa"
      },
      "execution_count": 3,
      "outputs": [
        {
          "output_type": "stream",
          "name": "stdout",
          "text": [
            "                  ImageName  Label  GaborEnergy_1_1_Window1  \\\n",
            "0  MaI12_Page100_line_1.jpg  color             2.918977e+09   \n",
            "1  MaI12_Page100_line_2.jpg  color             5.055518e+09   \n",
            "2  MaI12_Page100_line_3.jpg  color             4.993950e+09   \n",
            "3  MaI12_Page100_line_4.jpg  color             3.740395e+09   \n",
            "4  MaI12_Page100_line_5.jpg  color             2.482349e+09   \n",
            "\n",
            "   GaborEnergy_1_1_Window2  GaborEnergy_1_1_Window3  GaborEnergy_1_1_Window4  \\\n",
            "0             3.180004e+09             3.141088e+09             3.133615e+09   \n",
            "1             5.121529e+09             5.059220e+09             4.972092e+09   \n",
            "2             4.954889e+09             4.614656e+09             4.559201e+09   \n",
            "3             3.820795e+09             3.559340e+09             3.590960e+09   \n",
            "4             3.347111e+09             3.227321e+09             2.759642e+09   \n",
            "\n",
            "   GaborEnergy_1_1_Window5  GaborEnergy_1_1_Window6  GaborEnergy_1_1_Window7  \\\n",
            "0             2.809958e+09             2.966913e+09             2.385236e+09   \n",
            "1             4.815483e+09             4.812304e+09             3.736380e+09   \n",
            "2             4.569538e+09             4.254115e+09             3.884641e+09   \n",
            "3             3.286148e+09             3.666107e+09             3.409777e+09   \n",
            "4             2.829341e+09             3.164429e+09             3.108443e+09   \n",
            "\n",
            "   GaborEnergy_1_1_Window8  ...  GaborEnergy_5_5_Window26  \\\n",
            "0             2.222625e+09  ...               286504580.0   \n",
            "1             3.470656e+09  ...               324425570.0   \n",
            "2             3.398862e+09  ...               371210780.0   \n",
            "3             3.204594e+09  ...               320210080.0   \n",
            "4             2.735919e+09  ...               243537810.0   \n",
            "\n",
            "   GaborEnergy_5_5_Window27  GaborEnergy_5_5_Window28  \\\n",
            "0               281160480.0               287750940.0   \n",
            "1               317521180.0               338881200.0   \n",
            "2               378374000.0               318393800.0   \n",
            "3               331206530.0               326716580.0   \n",
            "4               262038020.0               260452660.0   \n",
            "\n",
            "   GaborEnergy_5_5_Window29  GaborEnergy_5_5_Window30  \\\n",
            "0               314365200.0               345256200.0   \n",
            "1               315861440.0               379656130.0   \n",
            "2               369096060.0               350520600.0   \n",
            "3               397206600.0               358392300.0   \n",
            "4               276429340.0               234450610.0   \n",
            "\n",
            "   GaborEnergy_5_5_Window31  GaborEnergy_5_5_Window32  \\\n",
            "0               331247070.0               366415040.0   \n",
            "1               368396930.0               396685820.0   \n",
            "2               368611200.0               379205060.0   \n",
            "3               334917540.0               360478820.0   \n",
            "4               257659490.0               240653230.0   \n",
            "\n",
            "   GaborEnergy_5_5_Window33  GaborEnergy_5_5_Window34  \\\n",
            "0               352585440.0               326376030.0   \n",
            "1               380129540.0               398360130.0   \n",
            "2               383775360.0               378650700.0   \n",
            "3               349585900.0               339189000.0   \n",
            "4               249916700.0               250589140.0   \n",
            "\n",
            "   GaborEnergy_5_5_Window35  \n",
            "0               301051600.0  \n",
            "1               381534370.0  \n",
            "2               339515780.0  \n",
            "3               297793800.0  \n",
            "4               251658560.0  \n",
            "\n",
            "[5 rows x 877 columns]\n",
            "Index(['ImageName', 'Label', 'GaborEnergy_1_1_Window1',\n",
            "       'GaborEnergy_1_1_Window2', 'GaborEnergy_1_1_Window3',\n",
            "       'GaborEnergy_1_1_Window4', 'GaborEnergy_1_1_Window5',\n",
            "       'GaborEnergy_1_1_Window6', 'GaborEnergy_1_1_Window7',\n",
            "       'GaborEnergy_1_1_Window8',\n",
            "       ...\n",
            "       'GaborEnergy_5_5_Window26', 'GaborEnergy_5_5_Window27',\n",
            "       'GaborEnergy_5_5_Window28', 'GaborEnergy_5_5_Window29',\n",
            "       'GaborEnergy_5_5_Window30', 'GaborEnergy_5_5_Window31',\n",
            "       'GaborEnergy_5_5_Window32', 'GaborEnergy_5_5_Window33',\n",
            "       'GaborEnergy_5_5_Window34', 'GaborEnergy_5_5_Window35'],\n",
            "      dtype='object', length=877)\n"
          ]
        }
      ]
    },
    {
      "cell_type": "code",
      "source": [
        "import pandas as pd\n",
        "import numpy as np\n",
        "from sklearn.ensemble import RandomForestClassifier\n",
        "from sklearn.model_selection import train_test_split\n",
        "from sklearn.metrics import accuracy_score\n",
        "from hmmlearn import hmm  # Hidden Markov Model implementation from hmmlearn\n",
        "\n",
        "# Load the sliding window features file\n",
        "def load_data():\n",
        "    file_path = \"/content/Gabor_with_labels_andinfo (1).csv\"  # Adjust the path as needed\n",
        "    return pd.read_csv(file_path)\n",
        "\n",
        "# Load the ground truth table from the Excel file\n",
        "def load_ground_truth():\n",
        "    gt_file_path = \"//content/line_gt 2.xlsx\"  # Adjust the path as needed\n",
        "    return pd.read_excel(gt_file_path)\n",
        "\n",
        "# Function to apply a sliding window over the features (as previously implemented)\n",
        "def sliding_window_feature_selection(data, target_column, window_size=3):\n",
        "    X = data.drop(columns=[target_column, 'ImageName'])  # Drop 'ImageName' as it's not a feature\n",
        "    y = data[target_column]\n",
        "\n",
        "    best_accuracy = 0\n",
        "    best_features = None\n",
        "\n",
        "    for start in range(0, X.shape[1] - window_size + 1):\n",
        "        selected_features = X.iloc[:, start:start + window_size]\n",
        "        X_train, X_test, y_train, y_test = train_test_split(selected_features, y, test_size=0.3, random_state=42)\n",
        "\n",
        "        clf = RandomForestClassifier(random_state=42)\n",
        "        clf.fit(X_train, y_train)\n",
        "        y_pred = clf.predict(X_test)\n",
        "        accuracy = accuracy_score(y_test, y_pred)\n",
        "\n",
        "        if accuracy > best_accuracy:\n",
        "            best_accuracy = accuracy\n",
        "            best_features = selected_features.columns\n",
        "\n",
        "    print(f\"Best accuracy: {best_accuracy}\")\n",
        "    print(f\"Selected features: {best_features}\")\n",
        "    return best_features\n",
        "\n",
        "# Baum-Welch (B-W) Algorithm for training HMM\n",
        "def train_hmm_with_baum_welch(features, ground_truth):\n",
        "    # Assume we have some observations (features) and corresponding ground truth\n",
        "    X = np.array(features)  # Features from sliding window selection\n",
        "    y = np.array(ground_truth)  # Ground truth sequence\n",
        "\n",
        "    # HMM parameters (initialize arbitrarily)\n",
        "    n_states = 3  # Example: number of hidden states in the HMM\n",
        "    model = hmm.GaussianHMM(n_components=n_states, covariance_type=\"diag\", n_iter=100)\n",
        "\n",
        "    # Fit the HMM to the features (training using Baum-Welch)\n",
        "    model.fit(X)\n",
        "\n",
        "    # Output the HMM parameters (transitions, means, etc.)\n",
        "    print(\"Transition matrix:\", model.transmat_)\n",
        "    print(\"Means of the Gaussian emissions:\", model.means_)\n",
        "    print(\"Covariances of the Gaussian emissions:\", model.covars_)\n",
        "\n",
        "    return model\n",
        "\n",
        "# Example usage\n",
        "csv_file = '/content/Gabor_with_labels_andinfo (1).csv'  # Path to your CSV file\n",
        "target_column = \"Label\"  # Assuming 'Label' is the target column for classification\n",
        "ground_truth_file = '/content/line_gt 2.xlsx'  # Path to your ground truth file\n",
        "\n",
        "# Load data\n",
        "data = load_data()\n",
        "\n",
        "# Apply sliding window feature selection\n",
        "best_features = sliding_window_feature_selection(data, target_column, window_size=3)\n",
        "\n",
        "# Load ground truth\n",
        "ground_truth = load_ground_truth()\n",
        "\n",
        "# Train the HMM using the selected features and ground truth\n",
        "hmm_model = train_hmm_with_baum_welch(data[best_features], ground_truth['gt'])\n"
      ],
      "metadata": {
        "colab": {
          "base_uri": "https://localhost:8080/"
        },
        "id": "ZnzSI_blpRLz",
        "outputId": "f7472797-2c0b-458d-d1bc-9672d75e2ba8"
      },
      "execution_count": 13,
      "outputs": [
        {
          "output_type": "stream",
          "name": "stdout",
          "text": [
            "Best accuracy: 1.0\n",
            "Selected features: Index(['GaborEnergy_1_1_Window1', 'GaborEnergy_1_1_Window2',\n",
            "       'GaborEnergy_1_1_Window3'],\n",
            "      dtype='object')\n",
            "Transition matrix: [[0.90852379 0.03067388 0.06080232]\n",
            " [0.18208592 0.72698792 0.09092616]\n",
            " [0.03071226 0.06031595 0.9089718 ]]\n",
            "Means of the Gaussian emissions: [[4.13304513e+09 4.07126720e+09 4.05344415e+09]\n",
            " [1.96868544e+09 2.10751762e+09 2.41700761e+09]\n",
            " [6.48991136e+09 6.32824818e+09 6.27438222e+09]]\n",
            "Covariances of the Gaussian emissions: [[[4.88230391e+17 0.00000000e+00 0.00000000e+00]\n",
            "  [0.00000000e+00 3.83553620e+17 0.00000000e+00]\n",
            "  [0.00000000e+00 0.00000000e+00 3.03585634e+17]]\n",
            "\n",
            " [[1.02659575e+17 0.00000000e+00 0.00000000e+00]\n",
            "  [0.00000000e+00 1.29967403e+17 0.00000000e+00]\n",
            "  [0.00000000e+00 0.00000000e+00 1.46559717e+17]]\n",
            "\n",
            " [[7.07511014e+17 0.00000000e+00 0.00000000e+00]\n",
            "  [0.00000000e+00 6.23148448e+17 0.00000000e+00]\n",
            "  [0.00000000e+00 0.00000000e+00 5.58871772e+17]]]\n"
          ]
        }
      ]
    },
    {
      "cell_type": "code",
      "source": [
        "import pandas as pd\n",
        "import numpy as np\n",
        "from hmmlearn import hmm\n",
        "\n",
        "# Load the feature data\n",
        "def load_feature_data():\n",
        "    feature_file_path = \"//content/Gabor_with_labels_andinfo (1).csv\"\n",
        "    return pd.read_csv(feature_file_path)\n",
        "\n",
        "# Load the ground truth data\n",
        "def load_ground_truth_data():\n",
        "    ground_truth_file_path = \"//content/line_gt 2.xlsx\"\n",
        "    return pd.read_excel(ground_truth_file_path)\n",
        "\n",
        "# Function to apply a sliding window over the features\n",
        "def sliding_window_feature_selection(data, target_column, window_size=3):\n",
        "    # Separate the features and target\n",
        "    X = data.drop(columns=[target_column, 'ImageName'])  # Drop 'ImageName' as it's not a feature\n",
        "    y = data[target_column]\n",
        "\n",
        "    # Initialize variables to track best features and best accuracy\n",
        "    best_accuracy = 0\n",
        "    best_features = None\n",
        "\n",
        "    # Perform sliding window over the features\n",
        "    for start in range(0, X.shape[1] - window_size + 1):\n",
        "        # Select window of features\n",
        "        selected_features = X.iloc[:, start:start + window_size]\n",
        "\n",
        "        # Split into train and test sets\n",
        "        X_train, X_test, y_train, y_test = train_test_split(selected_features, y, test_size=0.3, random_state=42)\n",
        "\n",
        "        # Train a classifier (Random Forest in this case)\n",
        "        clf = RandomForestClassifier(random_state=42)\n",
        "        clf.fit(X_train, y_train)\n",
        "\n",
        "        # Predict and calculate accuracy\n",
        "        y_pred = clf.predict(X_test)\n",
        "        accuracy = accuracy_score(y_test, y_pred)\n",
        "\n",
        "        # Update best features if current window improves accuracy\n",
        "        if accuracy > best_accuracy:\n",
        "            best_accuracy = accuracy\n",
        "            best_features = selected_features.columns\n",
        "\n",
        "    print(f\"Best accuracy: {best_accuracy}\")\n",
        "    print(f\"Selected features: {best_features}\")\n",
        "    return best_features\n",
        "\n",
        "# Function to apply the Baum-Welch algorithm (HMM training)\n",
        "def train_hmm(features, ground_truth, n_states=5, n_iter=10):\n",
        "    # Initialize the HMM model\n",
        "    model = hmm.GaussianHMM(n_components=n_states, covariance_type=\"diag\", n_iter=n_iter)\n",
        "\n",
        "    # Fit the model using the ground truth as observations and features as the input data\n",
        "    model.fit(features)\n",
        "\n",
        "    # Predict the hidden states (inferred sequence)\n",
        "    hidden_states = model.predict(features)\n",
        "\n",
        "    print(\"Hidden States Sequence:\", hidden_states)\n",
        "    return hidden_states\n",
        "\n",
        "# Load the data\n",
        "data = load_feature_data()\n",
        "ground_truth_data = load_ground_truth_data()\n",
        "\n",
        "# Apply sliding window feature selection\n",
        "best_features = sliding_window_feature_selection(data, target_column=\"Label\", window_size=3)\n",
        "\n",
        "# Use the selected features for the HMM\n",
        "selected_features_data = data[best_features]\n",
        "\n",
        "# Train HMM using the Baum-Welch algorithm and the ground truth\n",
        "hidden_states = train_hmm(selected_features_data, ground_truth_data, n_states=5, n_iter=100)\n"
      ],
      "metadata": {
        "colab": {
          "base_uri": "https://localhost:8080/"
        },
        "id": "xkhNzbm5pX4m",
        "outputId": "1d3a8f7f-907a-4f0e-faa4-aab3c0b4dc50"
      },
      "execution_count": 14,
      "outputs": [
        {
          "output_type": "stream",
          "name": "stdout",
          "text": [
            "Best accuracy: 1.0\n",
            "Selected features: Index(['GaborEnergy_1_1_Window1', 'GaborEnergy_1_1_Window2',\n",
            "       'GaborEnergy_1_1_Window3'],\n",
            "      dtype='object')\n",
            "Hidden States Sequence: [1 0 0 1 1 1 4 4 0 2 1 3 3 4 0 0 0 0 0 0 0 0 0 0 1 1 1 1 1 1 1 1 2 2 2 2 2\n",
            " 2 2 2 2 4 4 4 4 4 4 4 4 4 4 4 4 4 4 4 4 3 4 3 3 4 4 4 3 3 4 4 2 1 1 1 0 1\n",
            " 1 1 0 0]\n"
          ]
        }
      ]
    },
    {
      "cell_type": "code",
      "source": [
        "import pandas as pd\n",
        "\n",
        "# Load the Excel file containing the ground truth (Malayalam characters)\n",
        "def load_ground_truth(file_path):\n",
        "    # Assuming the ground truth data (characters) is in the first column of the sheet\n",
        "    df = pd.read_excel(file_path, sheet_name=0)\n",
        "\n",
        "    # Convert the column with Malayalam characters to a list\n",
        "    malayalam_characters = df.iloc[:, 0].tolist()  # Assuming the characters are in the first column\n",
        "    return malayalam_characters\n",
        "\n",
        "# Convert hidden states to Malayalam characters using the ground truth list\n",
        "def convert_states_to_characters(hidden_states, malayalam_characters):\n",
        "    malayalam_sequence = [malayalam_characters[state] for state in hidden_states]\n",
        "    return ''.join(malayalam_sequence)\n",
        "\n",
        "# Load the ground truth Malayalam characters from the Excel file\n",
        "excel_file_path = '/content/line_gt 2.xlsx'  # Path to the provided Excel file\n",
        "malayalam_characters = load_ground_truth(excel_file_path)\n",
        "\n",
        "# Hidden states output from the HMM\n",
        "hidden_states = [1, 0, 0, 1, 1, 1, 4, 4, 0, 2, 1, 3, 3, 4, 0, 0, 0, 0, 0, 0, 0, 0, 0, 0, 1, 1, 1, 1, 1, 1, 1, 1, 2, 2, 2, 2, 2,\n",
        "                 2, 2, 2, 2, 4, 4, 4, 4, 4, 4, 4, 4, 4, 4, 4, 4, 4, 4, 4, 4, 3, 4, 3, 3, 4, 4, 4, 3, 3, 4, 4, 2, 1, 1, 1, 0, 1,\n",
        "                 1, 1, 0, 0]\n",
        "\n",
        "# Convert the hidden states to the corresponding Malayalam characters using the ground truth\n",
        "malayalam_sequence = convert_states_to_characters(hidden_states, malayalam_characters)\n",
        "\n",
        "# Print the Malayalam character sequence\n",
        "print(\"Malayalam Character Sequence:\", malayalam_sequence)\n"
      ],
      "metadata": {
        "colab": {
          "base_uri": "https://localhost:8080/"
        },
        "id": "ZH9RKuwcrYNS",
        "outputId": "4f6078ca-2aa1-48d3-feb0-d7db749ea6d0"
      },
      "execution_count": 15,
      "outputs": [
        {
          "output_type": "stream",
          "name": "stdout",
          "text": [
            "Malayalam Character Sequence: മാളെന്നരാജാവിനഅണ കലിസ്വർഗ്ഗ സന്ദേഹ പ്രാപ്യ പ ചെരമാന്‍ പെരുമാളെന്ന രാജാ അവരൊധാ കഴിച്ചു കൊള്ളുവാൻ തക്കവണ്ണം എച്ചും നീരും കൊടുത്തു ചെരമാന്‍ പെരു അവരൊധാ കഴിച്ചു കൊള്ളുവാൻ തക്കവണ്ണം എച്ചും നീരും കൊടുത്തു ചെരമാന്‍ പെരുമാളെന്നരാജാവിനഅണ കലിസ്വർഗ്ഗ സന്ദേഹ പ്രാപ്യ പ ചെരമാന്‍ പെരുമാളെന്ന രാജാമാളെന്നരാജാവിനഅണ കലിസ്വർഗ്ഗ സന്ദേഹ പ്രാപ്യ പ ചെരമാന്‍ പെരുമാളെന്ന രാജാമാളെന്നരാജാവിനഅണ കലിസ്വർഗ്ഗ സന്ദേഹ പ്രാപ്യ പ ചെരമാന്‍ പെരുമാളെന്ന രാജാച്ച കൃഷ്ണരായ രാ മലയാളം അടക്കുവാൻ പടക്കൂട്ടുകഎല്ലോ ചൈക്കാത്ത അതിച്ച കൃഷ്ണരായ രാ മലയാളം അടക്കുവാൻ പടക്കൂട്ടുകഎല്ലോ ചൈക്കാത്ത അതി അവരൊധാ കഴിച്ചു കൊള്ളുവാൻ തക്കവണ്ണം എച്ചും നീരും കൊടുത്തു ചെരമാന്‍ പെരുവിൻറെ ഗുണാധിക്യംമുപ്പത്തിയാറുവർഷം കാലം പാണു മാളെന്നരാജാവിനഅണ കലിസ്വർഗ്ഗ സന്ദേഹ പ്രാപ്യ പ ചെരമാന്‍ പെരുമാളെന്ന രാജാബ്രാഹ്മണരപരദേശത്ത ചെന്നതുമില്ലപെരുമാളെ കണ്ടതുമില്ല എന്നുകൽപ്പിബ്രാഹ്മണരപരദേശത്ത ചെന്നതുമില്ലപെരുമാളെ കണ്ടതുമില്ല എന്നുകൽപ്പിച്ച കൃഷ്ണരായ രാ മലയാളം അടക്കുവാൻ പടക്കൂട്ടുകഎല്ലോ ചൈക്കാത്ത അതി അവരൊധാ കഴിച്ചു കൊള്ളുവാൻ തക്കവണ്ണം എച്ചും നീരും കൊടുത്തു ചെരമാന്‍ പെരു അവരൊധാ കഴിച്ചു കൊള്ളുവാൻ തക്കവണ്ണം എച്ചും നീരും കൊടുത്തു ചെരമാന്‍ പെരു അവരൊധാ കഴിച്ചു കൊള്ളുവാൻ തക്കവണ്ണം എച്ചും നീരും കൊടുത്തു ചെരമാന്‍ പെരു അവരൊധാ കഴിച്ചു കൊള്ളുവാൻ തക്കവണ്ണം എച്ചും നീരും കൊടുത്തു ചെരമാന്‍ പെരു അവരൊധാ കഴിച്ചു കൊള്ളുവാൻ തക്കവണ്ണം എച്ചും നീരും കൊടുത്തു ചെരമാന്‍ പെരു അവരൊധാ കഴിച്ചു കൊള്ളുവാൻ തക്കവണ്ണം എച്ചും നീരും കൊടുത്തു ചെരമാന്‍ പെരു അവരൊധാ കഴിച്ചു കൊള്ളുവാൻ തക്കവണ്ണം എച്ചും നീരും കൊടുത്തു ചെരമാന്‍ പെരു അവരൊധാ കഴിച്ചു കൊള്ളുവാൻ തക്കവണ്ണം എച്ചും നീരും കൊടുത്തു ചെരമാന്‍ പെരു അവരൊധാ കഴിച്ചു കൊള്ളുവാൻ തക്കവണ്ണം എച്ചും നീരും കൊടുത്തു ചെരമാന്‍ പെരു അവരൊധാ കഴിച്ചു കൊള്ളുവാൻ തക്കവണ്ണം എച്ചും നീരും കൊടുത്തു ചെരമാന്‍ പെരുമാളെന്നരാജാവിനഅണ കലിസ്വർഗ്ഗ സന്ദേഹ പ്രാപ്യ പ ചെരമാന്‍ പെരുമാളെന്ന രാജാമാളെന്നരാജാവിനഅണ കലിസ്വർഗ്ഗ സന്ദേഹ പ്രാപ്യ പ ചെരമാന്‍ പെരുമാളെന്ന രാജാമാളെന്നരാജാവിനഅണ കലിസ്വർഗ്ഗ സന്ദേഹ പ്രാപ്യ പ ചെരമാന്‍ പെരുമാളെന്ന രാജാമാളെന്നരാജാവിനഅണ കലിസ്വർഗ്ഗ സന്ദേഹ പ്രാപ്യ പ ചെരമാന്‍ പെരുമാളെന്ന രാജാമാളെന്നരാജാവിനഅണ കലിസ്വർഗ്ഗ സന്ദേഹ പ്രാപ്യ പ ചെരമാന്‍ പെരുമാളെന്ന രാജാമാളെന്നരാജാവിനഅണ കലിസ്വർഗ്ഗ സന്ദേഹ പ്രാപ്യ പ ചെരമാന്‍ പെരുമാളെന്ന രാജാമാളെന്നരാജാവിനഅണ കലിസ്വർഗ്ഗ സന്ദേഹ പ്രാപ്യ പ ചെരമാന്‍ പെരുമാളെന്ന രാജാമാളെന്നരാജാവിനഅണ കലിസ്വർഗ്ഗ സന്ദേഹ പ്രാപ്യ പ ചെരമാന്‍ പെരുമാളെന്ന രാജാവിൻറെ ഗുണാധിക്യംമുപ്പത്തിയാറുവർഷം കാലം പാണു വിൻറെ ഗുണാധിക്യംമുപ്പത്തിയാറുവർഷം കാലം പാണു വിൻറെ ഗുണാധിക്യംമുപ്പത്തിയാറുവർഷം കാലം പാണു വിൻറെ ഗുണാധിക്യംമുപ്പത്തിയാറുവർഷം കാലം പാണു വിൻറെ ഗുണാധിക്യംമുപ്പത്തിയാറുവർഷം കാലം പാണു വിൻറെ ഗുണാധിക്യംമുപ്പത്തിയാറുവർഷം കാലം പാണു വിൻറെ ഗുണാധിക്യംമുപ്പത്തിയാറുവർഷം കാലം പാണു വിൻറെ ഗുണാധിക്യംമുപ്പത്തിയാറുവർഷം കാലം പാണു വിൻറെ ഗുണാധിക്യംമുപ്പത്തിയാറുവർഷം കാലം പാണു ച്ച കൃഷ്ണരായ രാ മലയാളം അടക്കുവാൻ പടക്കൂട്ടുകഎല്ലോ ചൈക്കാത്ത അതിച്ച കൃഷ്ണരായ രാ മലയാളം അടക്കുവാൻ പടക്കൂട്ടുകഎല്ലോ ചൈക്കാത്ത അതിച്ച കൃഷ്ണരായ രാ മലയാളം അടക്കുവാൻ പടക്കൂട്ടുകഎല്ലോ ചൈക്കാത്ത അതിച്ച കൃഷ്ണരായ രാ മലയാളം അടക്കുവാൻ പടക്കൂട്ടുകഎല്ലോ ചൈക്കാത്ത അതിച്ച കൃഷ്ണരായ രാ മലയാളം അടക്കുവാൻ പടക്കൂട്ടുകഎല്ലോ ചൈക്കാത്ത അതിച്ച കൃഷ്ണരായ രാ മലയാളം അടക്കുവാൻ പടക്കൂട്ടുകഎല്ലോ ചൈക്കാത്ത അതിച്ച കൃഷ്ണരായ രാ മലയാളം അടക്കുവാൻ പടക്കൂട്ടുകഎല്ലോ ചൈക്കാത്ത അതിച്ച കൃഷ്ണരായ രാ മലയാളം അടക്കുവാൻ പടക്കൂട്ടുകഎല്ലോ ചൈക്കാത്ത അതിച്ച കൃഷ്ണരായ രാ മലയാളം അടക്കുവാൻ പടക്കൂട്ടുകഎല്ലോ ചൈക്കാത്ത അതിച്ച കൃഷ്ണരായ രാ മലയാളം അടക്കുവാൻ പടക്കൂട്ടുകഎല്ലോ ചൈക്കാത്ത അതിച്ച കൃഷ്ണരായ രാ മലയാളം അടക്കുവാൻ പടക്കൂട്ടുകഎല്ലോ ചൈക്കാത്ത അതിച്ച കൃഷ്ണരായ രാ മലയാളം അടക്കുവാൻ പടക്കൂട്ടുകഎല്ലോ ചൈക്കാത്ത അതിച്ച കൃഷ്ണരായ രാ മലയാളം അടക്കുവാൻ പടക്കൂട്ടുകഎല്ലോ ചൈക്കാത്ത അതിച്ച കൃഷ്ണരായ രാ മലയാളം അടക്കുവാൻ പടക്കൂട്ടുകഎല്ലോ ചൈക്കാത്ത അതിച്ച കൃഷ്ണരായ രാ മലയാളം അടക്കുവാൻ പടക്കൂട്ടുകഎല്ലോ ചൈക്കാത്ത അതിച്ച കൃഷ്ണരായ രാ മലയാളം അടക്കുവാൻ പടക്കൂട്ടുകഎല്ലോ ചൈക്കാത്ത അതിബ്രാഹ്മണരപരദേശത്ത ചെന്നതുമില്ലപെരുമാളെ കണ്ടതുമില്ല എന്നുകൽപ്പിച്ച കൃഷ്ണരായ രാ മലയാളം അടക്കുവാൻ പടക്കൂട്ടുകഎല്ലോ ചൈക്കാത്ത അതിബ്രാഹ്മണരപരദേശത്ത ചെന്നതുമില്ലപെരുമാളെ കണ്ടതുമില്ല എന്നുകൽപ്പിബ്രാഹ്മണരപരദേശത്ത ചെന്നതുമില്ലപെരുമാളെ കണ്ടതുമില്ല എന്നുകൽപ്പിച്ച കൃഷ്ണരായ രാ മലയാളം അടക്കുവാൻ പടക്കൂട്ടുകഎല്ലോ ചൈക്കാത്ത അതിച്ച കൃഷ്ണരായ രാ മലയാളം അടക്കുവാൻ പടക്കൂട്ടുകഎല്ലോ ചൈക്കാത്ത അതിച്ച കൃഷ്ണരായ രാ മലയാളം അടക്കുവാൻ പടക്കൂട്ടുകഎല്ലോ ചൈക്കാത്ത അതിബ്രാഹ്മണരപരദേശത്ത ചെന്നതുമില്ലപെരുമാളെ കണ്ടതുമില്ല എന്നുകൽപ്പിബ്രാഹ്മണരപരദേശത്ത ചെന്നതുമില്ലപെരുമാളെ കണ്ടതുമില്ല എന്നുകൽപ്പിച്ച കൃഷ്ണരായ രാ മലയാളം അടക്കുവാൻ പടക്കൂട്ടുകഎല്ലോ ചൈക്കാത്ത അതിച്ച കൃഷ്ണരായ രാ മലയാളം അടക്കുവാൻ പടക്കൂട്ടുകഎല്ലോ ചൈക്കാത്ത അതിവിൻറെ ഗുണാധിക്യംമുപ്പത്തിയാറുവർഷം കാലം പാണു മാളെന്നരാജാവിനഅണ കലിസ്വർഗ്ഗ സന്ദേഹ പ്രാപ്യ പ ചെരമാന്‍ പെരുമാളെന്ന രാജാമാളെന്നരാജാവിനഅണ കലിസ്വർഗ്ഗ സന്ദേഹ പ്രാപ്യ പ ചെരമാന്‍ പെരുമാളെന്ന രാജാമാളെന്നരാജാവിനഅണ കലിസ്വർഗ്ഗ സന്ദേഹ പ്രാപ്യ പ ചെരമാന്‍ പെരുമാളെന്ന രാജാ അവരൊധാ കഴിച്ചു കൊള്ളുവാൻ തക്കവണ്ണം എച്ചും നീരും കൊടുത്തു ചെരമാന്‍ പെരുമാളെന്നരാജാവിനഅണ കലിസ്വർഗ്ഗ സന്ദേഹ പ്രാപ്യ പ ചെരമാന്‍ പെരുമാളെന്ന രാജാമാളെന്നരാജാവിനഅണ കലിസ്വർഗ്ഗ സന്ദേഹ പ്രാപ്യ പ ചെരമാന്‍ പെരുമാളെന്ന രാജാമാളെന്നരാജാവിനഅണ കലിസ്വർഗ്ഗ സന്ദേഹ പ്രാപ്യ പ ചെരമാന്‍ പെരുമാളെന്ന രാജാ അവരൊധാ കഴിച്ചു കൊള്ളുവാൻ തക്കവണ്ണം എച്ചും നീരും കൊടുത്തു ചെരമാന്‍ പെരു അവരൊധാ കഴിച്ചു കൊള്ളുവാൻ തക്കവണ്ണം എച്ചും നീരും കൊടുത്തു ചെരമാന്‍ പെരു\n"
          ]
        }
      ]
    },
    {
      "cell_type": "code",
      "source": [
        "import pandas as pd\n",
        "import numpy as np\n",
        "\n",
        "# Function to compute Levenshtein distance\n",
        "def levenshtein_distance(seq1, seq2):\n",
        "    \"\"\" Compute the Levenshtein distance between two sequences. \"\"\"\n",
        "    len1, len2 = len(seq1), len(seq2)\n",
        "\n",
        "    # Initialize a 2D array to store distances\n",
        "    dp = np.zeros((len1 + 1, len2 + 1), dtype=int)\n",
        "\n",
        "    # Initialize base cases\n",
        "    for i in range(len1 + 1):\n",
        "        dp[i][0] = i\n",
        "    for j in range(len2 + 1):\n",
        "        dp[0][j] = j\n",
        "\n",
        "    # Compute the distances\n",
        "    for i in range(1, len1 + 1):\n",
        "        for j in range(1, len2 + 1):\n",
        "            if seq1[i - 1] == seq2[j - 1]:\n",
        "                dp[i][j] = dp[i - 1][j - 1]  # No change needed\n",
        "            else:\n",
        "                dp[i][j] = min(dp[i - 1][j] + 1,     # Deletion\n",
        "                               dp[i][j - 1] + 1,     # Insertion\n",
        "                               dp[i - 1][j - 1] + 1) # Substitution\n",
        "\n",
        "    return dp[len1][len2]\n",
        "\n",
        "# Function to compute Character Error Rate (CER)\n",
        "def compute_cer(predicted_sequence, ground_truth_sequence):\n",
        "    \"\"\" Computes the Character Error Rate (CER) between two sequences. \"\"\"\n",
        "    distance = levenshtein_distance(predicted_sequence, ground_truth_sequence)\n",
        "    cer = distance / len(ground_truth_sequence)\n",
        "    return cer, distance\n",
        "\n",
        "# Load the ground truth Malayalam character sequence (from Excel)\n",
        "def load_ground_truth(file_path):\n",
        "    \"\"\" Load ground truth sequence of Malayalam characters from an Excel file. \"\"\"\n",
        "    df = pd.read_excel(file_path, sheet_name=0)\n",
        "    ground_truth_characters = df.iloc[:, 0].tolist()\n",
        "\n",
        "    # Handle non-string (NaN or float) values\n",
        "    ground_truth_characters = [str(char) if pd.notna(char) else '' for char in ground_truth_characters]\n",
        "\n",
        "    return ''.join(ground_truth_characters)\n",
        "\n",
        "# Example sequences (replace with your actual sequences)\n",
        "excel_file_path = '/content/line_gt 2.xlsx'  # Path to the provided Excel file\n",
        "ground_truth_sequence = load_ground_truth(excel_file_path)\n",
        "\n",
        "# Predicted Malayalam character sequence (replace with actual output from the previous step)\n",
        "predicted_sequence = \"your_predicted_malayalam_sequence_here\"  # Replace this with actual prediction\n",
        "\n",
        "# Compute CER\n",
        "cer, edit_distance = compute_cer(predicted_sequence, ground_truth_sequence)\n",
        "\n",
        "# Output the results\n",
        "print(f\"Ground Truth Sequence: {ground_truth_sequence}\")\n",
        "print(f\"Predicted Sequence: {predicted_sequence}\")\n",
        "print(f\"Levenshtein Distance: {edit_distance}\")\n",
        "print(f\"Character Error Rate (CER): {cer}\")\n"
      ],
      "metadata": {
        "colab": {
          "base_uri": "https://localhost:8080/"
        },
        "id": "MhPQZKLCs5DY",
        "outputId": "31a2ad57-7d69-4398-a787-a32acc7c1060"
      },
      "execution_count": 18,
      "outputs": [
        {
          "output_type": "stream",
          "name": "stdout",
          "text": [
            "Ground Truth Sequence:  അവരൊധാ കഴിച്ചു കൊള്ളുവാൻ തക്കവണ്ണം എച്ചും നീരും കൊടുത്തു ചെരമാന്‍ പെരുമാളെന്നരാജാവിനഅണ കലിസ്വർഗ്ഗ സന്ദേഹ പ്രാപ്യ പ ചെരമാന്‍ പെരുമാളെന്ന രാജാവിൻറെ ഗുണാധിക്യംമുപ്പത്തിയാറുവർഷം കാലം പാണു ബ്രാഹ്മണരപരദേശത്ത ചെന്നതുമില്ലപെരുമാളെ കണ്ടതുമില്ല എന്നുകൽപ്പിച്ച കൃഷ്ണരായ രാ മലയാളം അടക്കുവാൻ പടക്കൂട്ടുകഎല്ലോ ചൈക്കാത്ത അതിൻറെ ശേഷം അറുപത്തനാല ഗ്രാമത്തിൽ ബ്രാഹ്മണരുംചേരമാൻപെരുമാളെന്ന രാജാവുംതൃക്കാരിയൂർ പൊന്മാടത്തിൽകീഴ അടിയന്തരമീ രുന്ന അടിയന്തര സഭ യിന്ന നിരൂപിച്ചു പതിനെ ഴ നാട്ടിലുള്ള നാട്ടിലുള്ള പുരുഷാരത്തെ എത്തിച്ചു ദിഗ് വിജയം ഉണ്ടായിട്ട ആരുള്ളു എന്ന അമ്പെഷിപ്പത്തിന്റെ ശേഷം പൂന്തുറെ ഉണ്ടമാന വിക്കീരൻ ലിപ്പാൻ രാജാവാവെണമെന്ന  കൽപ്പിച്ച ബ്രാഹ്മണർ  പരശത്തെ പരദെശത്തെ  ചെന്ന  കൃഷ്ണ രാ യരുമായി ക്കണ്ട  പന്തീരാണ്ട   വാഴുവാൻ  തക്കവണ്ണം   ആദിരാജാ  പെരുമാളെയും വൊണ്ടി പെമാളായി വാഴിച്ചു  അവരുടെ    വാഴിച്ചയും കഴിഞ അവര  പൊയതിന്റെ ശെഷം ബ്രാഹ്മണര വരടെ ശ ത്ത ചെന്ന രായ രുമായി കണ്ട പന്തീരാണ്ടാ  വാഴുവാൻ തക്കവണ്ണം ചെരമാൻ പെ രുമാളെ ന്നരാ ജാ വിനെയും കൽപ്പിച്ചു ചെരമാൻ പെരുമാളും ബ്രാഹ്മണ രും കൂടി പോരു മ്പൊൾ വാസുദെവ പട്ടാതിരിയായ മഹാഭാരത പട്ട തിരിയെ ശകുനം   കണ്ടുനടെ   കൂട്ടിക്കൊണ്ടു  വന്ന  തൃക്കാരിയൂർ  പൊന്മാടത്തിൽ കീ ഴ അടിയന്തരമിരുന്ന  അറുപത്തുനാല ഗ്രാമത്തിൽ ബ്രാഹ്മണര കെ രള രാജ്യം നൂറ്ററുപത കകാതം  അടക്കി വാഴുവാൻ  തക്കവണ്ണം ആനായ തീട്ട കൊടുത്ത  ഏകചത്രാധിപതിയായി രെണ് ചാല പറവ ത്ത ചാലകം  വെണ്ചാല പെരാല   നടക്കാവിൽ കാഞ്ഞിരമൂരട്ട  കൊടയും  മല ത്തീ വെച്ച കിഴക്കൊട്ട  തിരി അ ഇരിക്കുന്നു ആഴു വാ ഞ്ചേരി തമ്പ്രാക്കളും അവിടുത്തെ തെ വാര ന മ്പൂതിരിയും അവിടുന്ന അവരുമായി കണ്ടു  അവരൊട ചൊദിച്ചു തമ്പ്രാക്കൾ  നിങ്ങൾ എവിടെ  ക്ക പൊകുന്നൂ  എന്ന കെട്ട പാറെ അടിയങ്ങൾ തൃക്കാരിയൂർ അടിയന്തര സഭ യിന്ന ആയ്യ ബ്രാഹ്മണരെ അയച്ച  അവിടെക്ക അവരുമായി  പൊകുന്നു എന്ന അവരെ എഴുതിക്കും എഴുത്തച്ഛൻ തൊട്ടു വക്കളത്തിൽ ഉണിക്കു  മര  നമ്പി യാര  കെൾപ്പിച്ചു ഞങ്ങളും  അവി ടെക്കുതന്നെ പൊകുന്നു വെന്ന തമ്പ്രാക്കൾ   അരുളി  ചൈയ്തു   അവിടുന്ന തില്ലാവരും കൂടി   പൊകുന്നെരം അപ്രദെശത്തെ ഏഴ പശു ചത്ത  കിടക്കുന്നു  അപ്പശുക്കളുടെ  സമീപത്ത  പതിനാല ക ഴുക്കൾ ഇരിക്കുന്നു അവരൊട ചൊദിച്ചൂ  തമ്പ്രാക്കൾ ഹെ  പക്ഷികളെ നിങ്ങൾ എന്തരെ മാംസ റ ല്ല്യ ആ വൈ ദ്യ നായി ട്ടുള്ള വൻ ശരീരത്തിന്റെ അകത്ത കൊണ്ടിരിക്കുന്ന അവന്റെ  തരത്തിനെ എന്ത്രം  കൊണ്ട    ദെഹത്തിനു ക്ഷീണത  കൂടാതെ അറിഞ്ഞ   വെളിയിലെടുത്ത നിവൃത്തിക്കുന്നതു പൊ ലെ കാര്യങ്ങളുടെ ശല്യത്തിനെ വ്യവഹാരം  കൊണ്ട  അറിഞ്ഞ  അധർമ  മാ യിട്ടുള്ളതിനെ  ത്യജിച്ച  ധർമ്മത്തെ  നിശ്ചയിക്കെണം  സന്ന്യാ ദാ കാതു യന :യത്ര വിപ്രൊന വിദ്ധ്വം  സ്യാൽ ക്ഷത്രിയം   തത്ര  യൊ  ജ യെ ൽ വൈശോവാ ധർമ്മശാസ്ത്രജ്ഞം ശൂദ്രയ    രൊ ന വജ്ജ യെൽ എന്നതിന്റെ  രാജാവിന്റെ  സ്ഥാനത്തിരുന്ന   കാര്യവിസ്താരം നൊ ക്കുന്നതിന വിദ്വാന്തയിട്ടുള്ള  ബ്രാഹ്മണനെ  ആക്കുവാൻ  കിട്ടാഞ്ഞാൽ  ആ രാജസ്ഥാനത്തിരുന്ന കാക്കം നൊ ക്കെണ്ടുന്നതിന ധർമ്മശാസ്ത്രം അറിഞ്ഞിട്ടുള്ള ക്ഷത്രിയനെ നെ   ആക്കണം ക്ഷത്രിയനെ  കിട്ടാഞ്ഞാൽ  ധർമ്മശാസ്ത്രം അറിഞ്ഞിരിക്കുന്നതിൽ  ഒരു വൈശുനെ ആക്കണം രാജാവ  ഇരുന്ന കാര്യവിചാര ന്നൊ ക്കി വരുന്ന സ്ഥാനത്തിൽ ൽ ശൂദ്രനെ ആക്കരുതാ രാജാവു തന്റെ സ്ഥാനത്തെ  ശൂദ്രനെ  ത്തന്നെ ആക്കി ശൂദ്ര മുഖമായി ട്ട ധർമ്മത്തെ ഗ്രഹിക്കരുതെന്നു താല്പര്യം സാ ദാ വ്യാ സ റ്റ ദ്വീ ജാ മ്പി ഹാ യയാ :പശൊൽ കാര്യാണി  വൃഷലൈ സ്സഹാ ത സ്യാ പ്രക്ഷുഭ്യ തെരാഷ്ട്രം ബലം  കൊശാഞ്ചന ശുതി യാതൊരു   രാജാ വസ്തുന്മാരുടെ സ്ഥാനത്തിൽ  ബ്രാഹ്മണരെ ത്തള്ളി ശൂദ്രരെത്തന്നെ ആക്കി അവരൊടു കൂടിയിരുന്ന  കാര്യദർശനം  ചൈയ്തുവരുന്നു എന്നാൽ ആ  രാജാവിന്റെ രാജ്യം ക്ഷൊഭിച്ച  ആ രാജാവിന്റെ സൈന്യവും  മൂലധനവും നശിക്കും  എന്നതുകൊണ്ട  സഭ്യസ്ഥാനത്തിൽ ബ്രാഹ്മണരെ ആക്കണം സപ്രാ ജാ ഇതി പ്രാ ഡ്വി പാകധമ :ദാ രം ചൊല്ലിയ പ്രകാരം  അല്ലാതെ  ഓരൊ  ദിക്കിൽ കാര്യം വിചാരിച്ചുവരുന്ന ഹരിശ്രീ  ഗണപതയെ  നമ:  അവിഘനമസ്തു അ ശ്രീ ശ്രീ  യ സ്സ ത്മ സത്മ  സുമേരുനാമാസമസ്തകല്യാണനിധിഗ്ഗിരീന്ദ്രഃ:തിഷ്ഠന്നിദം വിശ്വമനുപ്രവിശ്യസ്വേനാത്മനാ വിഷ്ണുരിവോര്‍ജ്ജിതേന മിഥസ്തിരോഭാവവിലൊകനാഭ്യാംസംക്രീഡമാനാവിവ ബാലകൗദ്വൗപാര്‍ശ്വേഷുയസ്യാശുപരിഭ്രമന്തൗചന്ദ്രാംശുമന്തൗ നയതോദിനാനി ഉച്ചൈശ്ശിഖഃ കാഞ്ചനഗൗരവര്‍ണ്ണ സ്തമോനിഗൃഹ്ണന്മഹസാ നിജെനദീപശ്രയാണാമിവവിഷ്ടപാനാം യൊഭാതി പര്യന്തചരല്‍പതംഗഃ സ്യാഃ പതിത്വേ വിഹിതാഭിലാഷഃകരോതി തീവ്രാണി തപാംസി ലോകഃബിഭത്തി രത്നാകര മെ ഖലാ ന്താ മകെന പുത്രീമിവ യൊ ധരിത്രീം മഹാന്തിദാനാനിമഖാനുദഗ്രാന്‍ പരാഞ്ചി പാനാശനയൊസ്തപാംസി ശരീരിണശ്ശാന്തമലൈര്‍മ നൊഭിഃ കുവന്തി യച്ഛൃംഗനിവാസകാമാഃ സുരായുഗാന്തേഷു സഹപ്രിയാഭി ന്നിഷെദിവാംസോ യദധിത്യകാസുഉദന്വതാമൈക്യമുപാഗതാനാംപശ്യന്തി കല്ലോലശതപ്രചാരാന്‍ പുഷ്പാണി ശയ്യാസ്സുരപാദപാനാംക്രീഡാഗൃഹാഃ കാഞ്ചനഗവരാണിഭവന്തി ച സ്വര്‍ഗ്ഗവിലാസിനീനാംരത്നാകുരായത്ര രതിപ്രദീപാഃസ്വര്‍ഗ്ഗൗകസഃ സ്വര്‍ണ്ണമഹീഷു പീതാശ്വേതത്വിഷൊ  രൂപ്യമയീഷു ഭൂഷു നീലാശ്ച നീലോപലമെദിനീഷുജ്ഞാതും മിഥൊയത്ര ന ശക്‍നുവന്തിദരീഗൃഹൊത്സംഗഗ തൈ  രനൂ രൊ:കശാഭിഘാത ദു പ നിഭി സ്സകം പാ: സദ്യഃ പ്രിയാനുജ്ഝിതമാന ദൊഷാഃ   ഞ്ചാതു മിഥെസു രാംഗനായത്ര പരിഷ്വജന്തെ നെതുംന്ത്ര പാനമ്രമുഖീരനീശാസ്സു ടാനി യല്‍ ത്സർണ്ണ ഗൃഹാന്തരാണി  സിദ്ധാഃ പ്രയത്നേന വിനാ ന വൊ ഢാഃ നയന്തി നീ ലൊ പലഗഹ്വരാണി യത്രോദ്യതാനാം കുസുമാപചാ യെ  കാന്താസു കല്‍പദ്രു മ വാ ടികാസുവിഭാന്തി സുത്രാമവിലാസിനീനാം പദാനി ലാക്ഷാരസപാടലാനിപയൊ ദമാര്‍ഗ്ഗവ്യതിലംഘിനീഷു ഹംസാഃ ശ്ശി രഃപുഷ്കരിണീഷു യസ്യ വ ഷാ ഗമെ  പ്യശ്രുത മെ ഘനാദാ ന കു വ തെ  മാനസദീര്‍ഘയാത്രാംഛന്നെഷു യസ്മിന്‍ കനകൊ ജ്വലാഭിരാമൂലചൂഡന്ന വമഞ്ജരീഭിഃ ഗന്ധെ ന വിജ്ഞായ പതന്തി ഭൃംഗാഃ ശൃംഗാന്തരാരഗ്വധപാദ പെ ഷുമന്ദാകിനീ യച്ഛിഖരെ  വഹന്തീ കു ല്യാപഥാഭ്യന്തരസംപ്രവിഷ്ടാബാലേവ തകസ്സഹിവാ താമിക്ഷസ്സ പുരീം പുരസ്താൽ പ്രാപപ്ര തൊളീ മതുല പ്രതാപ വജ്ര പ്രഭൊൽ ഭാസിസുരായുധ ശ്രീയ്യാ ദെവസെനെവപ രൈ ര ലം ഘ്യാ പ്രജാ ഇവാം ഗാദ ര വിന്ദ നാ ഭെ ശംഭൊ ജടാ ജൂ ട തടാ ദി വാം പ : മുഖാദി വാഥ ശ്ര തയൊ വിധാ തു ന്ദുപു രാന്നി രീയു മു ധ്യജി ദ്വപജിന്യ ശിഷ്യ ത്രി രമ ന്യാ തു മു ഖാ ഗ്രസാ ഗസ്ഖ ലൽ ഖലീനം ഹരി ഭൂ വി ലൊ ലൈ ലു പരസ്പ രെ ലീപീഡി തജാനു ഭാഗാദു ദു ഖെ നനി ശ്ച ക്ര മുര ശ്ച വാ ഫ്ലാ നിരന്തരാ ളെ വിമുച്യ മാനെ ദുരാ പഥി പ്രാണ മൃതാഗ ണെ ന തെ ജൊ മഹ ത്രിസ്തു മസീ വദീ വൈദ്ധി വൈര സംബാ ധമയാം ബഭൂ വൊ ശനെ രനീ യന്തര യാൽ പതന്തോരഥാ ദക്ഷിതി ഗെന്ദ്രമി വെ ന്ദ്രവാഹനഅജസ്രമാസ്രാവിതവല്ലകീഗുണ ക്ഷതൊജലാംഗുഷന ഖാശൂഭിന്നയാപു രറ്റപ്രവാ ളൈ രിവപൂരിതാർദ്ധയാരാത്രിവിഭാന്തമ ചശസ്ഫടികാക്ഷമാലയര ണൽ ഭിരാഘട്ടനയാനഭ സ്വ തു വൃഥവീഭിന്നശ്രു    തിതിമണ്ഡലൈസ്വരൈറ്റസ്ഫു    ടീഭവൽഗ്രാമവിശേഷ മൂ ഛ നാമ വെക്ഷ  മാ      ണമഹതീമുഹുദാനി  വർത്തു്സൊനുവ്രജത റ്റകൃതാനതീനതീ     ന്ദ്രീയദുജ്ഞാനനിധിന്നഭസ്സ    ദറ്റസമാസദൽസാദി തദൈതുസബദറ്റ     വദാമഹെന്ദ്രാലയചാരു     ചക്രിണദാപതൽപത ഗപ്രതിമസ്‌കപൊ          നിധിറ്റപുരൊസ്യയാവന്ന  ഭുവിതുലീയതഗിരെ രസൂടിത്വ്നിവതാവ ച്ചകൈജ്ജവെനഷീറാദുദതിഷദച്ചുറ്റഅഥപ്രയത്തൊന്നമീതാനമൽഫണ്ണൈദധ്യതെകഥ   ഞ്ചിൽഫാണിതാംഗണ്ണൈരധറ്റതുധായിഷാതാമഭിദേവകീസുതംസുമധിരങ്ങൾ പേരക്കിടാവിനെ നമ്മുടെശരികൂടത്തെ  ഭെ ദിചചു ൽ നിർമൂ രിയതാ കൊണ്ടിങ്ങു പെറന്ന തൂകിങ്കരന്മര വെരങ്ങു          ചെയ്കെ യോനിന്തിരുവടികൂടായ ഞ്ഞിട്ടൊഎന്നാണീ  ങേൾ നിരുവിച്ചില്ലെങ്കിലുംയെൻ പൂപ്പജെനികിയധമ ജൻ ന്നെ യനിനച്ചീടുവ അന്തരമെനിചൊതി ച്ചിട്ടമെന്നുംഅനുകാപൂരിനൊക്കി നടകൊണ്ടറൻഅന്തരാമാർഗത്തൂടെധനഞ്ജയൻഅമ്പര യെണ മികുന്നപിദ്ധ്യാൽകൻമിഴികൊണ്ടനെരആമർജജനെൻ ധർമ്മരാജ മ            ഹാപുരിയിൽ ചെന്നു  ധർമൂരി ധർമ്മോരി ജെനെകണ്ടങ്ങ ജ്ജു ചൊല്ലി നാൻ ധർമൂരാജാവേ കെളെടോഭൂസുരാധർമ ദത്തെ പെരള ഷൊ ത്തി കെൽ ളി ങ്കെ നെ കെട്ടി ട്ടും ഹരി തെ ന്നെ യയാം പക്ഷിച്ച തെന്നിട്ടു തള്ളി ല്ലാ തെ കെ കൊ പി ച്ചു ത ന്നു ടെ കുയ എ ല്ലു മെ ടു ത്തു ട ന പ്പൊ ഴെ ചേ ക ങ്കാ ക ന്നൊ ളി കൊണ്ടു ജെഗത്ര യാ ക്ക ലുങ്ങും പരിചാൽഭൂത താ ക്ഷി ക്രാ മം അന്ത ണെ കൊടുതമുആ രം ചൊല്ലുവാൻ \n",
            "Predicted Sequence: your_predicted_malayalam_sequence_here\n",
            "Levenshtein Distance: 6623\n",
            "Character Error Rate (CER): 1.0\n"
          ]
        }
      ]
    },
    {
      "cell_type": "code",
      "source": [],
      "metadata": {
        "id": "t132HFw7tvOq"
      },
      "execution_count": null,
      "outputs": []
    }
  ]
}